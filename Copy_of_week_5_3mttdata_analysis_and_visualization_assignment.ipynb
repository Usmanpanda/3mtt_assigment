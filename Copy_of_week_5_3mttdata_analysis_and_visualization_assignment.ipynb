{
  "cells": [
    {
      "cell_type": "markdown",
      "metadata": {
        "id": "view-in-github",
        "colab_type": "text"
      },
      "source": [
        "<a href=\"https://colab.research.google.com/github/Usmanpanda/3mtt_assigment/blob/main/Copy_of_week_5_3mttdata_analysis_and_visualization_assignment.ipynb\" target=\"_parent\"><img src=\"https://colab.research.google.com/assets/colab-badge.svg\" alt=\"Open In Colab\"/></a>"
      ]
    },
    {
      "cell_type": "code",
      "execution_count": null,
      "metadata": {
        "colab": {
          "base_uri": "https://localhost:8080/"
        },
        "id": "9hUou16BCJfF",
        "outputId": "4fe71ccc-c88c-4ed8-f0cb-3f725318bea3"
      },
      "outputs": [
        {
          "output_type": "stream",
          "name": "stdout",
          "text": [
            "Original Data:\n",
            "    A  B  C  D\n",
            "0  1  3  1  2\n",
            "1  2  2  2  4\n",
            "2  3  3  5  6\n",
            "3  4  4  6  3\n",
            "4  5  5  5  1\n",
            "\n",
            "Cleaned Data:\n",
            "    A  B  C  D\n",
            "0  1  3  1  2\n",
            "1  2  2  2  4\n",
            "2  3  3  5  6\n",
            "3  4  4  6  3\n",
            "4  5  5  5  1\n"
          ]
        }
      ],
      "source": [
        "import pandas as pd\n",
        "\n",
        "# define a dictionary with sample data which includes some missing values\n",
        "data = {\n",
        "    'A': [1, 2, 3, 4, 5],\n",
        "    'B': [3, 2, 3, 4, 5],\n",
        "\n",
        "    'C': [1, 2,5, 6, 5],\n",
        "    'D': [2,4, 6, 3, 1,]\n",
        "\n",
        "}\n",
        "\n",
        "df = pd.DataFrame(data)\n",
        "print(\"Original Data:\\n\",df)\n",
        "print()\n",
        "\n",
        "# use dropna() to remove rows with any missing values\n",
        "df_cleaned = df.dropna()\n",
        "\n",
        "print(\"Cleaned Data:\\n\",df_cleaned)"
      ]
    },
    {
      "cell_type": "code",
      "source": [],
      "metadata": {
        "id": "mefF_jxlxK9_"
      },
      "execution_count": null,
      "outputs": []
    }
  ],
  "metadata": {
    "colab": {
      "provenance": [],
      "authorship_tag": "ABX9TyPDVi+FV1z4JDZSnD2Rt3kP",
      "include_colab_link": true
    },
    "kernelspec": {
      "display_name": "Python 3",
      "name": "python3"
    },
    "language_info": {
      "name": "python"
    }
  },
  "nbformat": 4,
  "nbformat_minor": 0
}