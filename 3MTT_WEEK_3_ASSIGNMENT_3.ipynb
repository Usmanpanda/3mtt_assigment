{
  "nbformat": 4,
  "nbformat_minor": 0,
  "metadata": {
    "colab": {
      "provenance": [],
      "authorship_tag": "ABX9TyPHGkDG1m2RdieAfzrykjyR",
      "include_colab_link": true
    },
    "kernelspec": {
      "name": "python3",
      "display_name": "Python 3"
    },
    "language_info": {
      "name": "python"
    }
  },
  "cells": [
    {
      "cell_type": "markdown",
      "metadata": {
        "id": "view-in-github",
        "colab_type": "text"
      },
      "source": [
        "<a href=\"https://colab.research.google.com/github/Usmanpanda/3mtt_assigment/blob/main/3MTT_WEEK_3_ASSIGNMENT_3.ipynb\" target=\"_parent\"><img src=\"https://colab.research.google.com/assets/colab-badge.svg\" alt=\"Open In Colab\"/></a>"
      ]
    },
    {
      "cell_type": "code",
      "execution_count": null,
      "metadata": {
        "id": "RIJDavUI5PMc"
      },
      "outputs": [],
      "source": []
    },
    {
      "cell_type": "markdown",
      "source": [
        "How to write phyton script"
      ],
      "metadata": {
        "id": "llU5dVvh5RFi"
      }
    },
    {
      "cell_type": "code",
      "source": [
        "lst=[2,4,6,8,10]\n",
        "sum (lst)"
      ],
      "metadata": {
        "colab": {
          "base_uri": "https://localhost:8080/"
        },
        "id": "hmkbAwhn6CRL",
        "outputId": "83fbd7f2-1675-4014-9f62-cf2c600621dc"
      },
      "execution_count": null,
      "outputs": [
        {
          "output_type": "execute_result",
          "data": {
            "text/plain": [
              "30"
            ]
          },
          "metadata": {},
          "execution_count": 5
        }
      ]
    },
    {
      "cell_type": "markdown",
      "source": [],
      "metadata": {
        "id": "EfcIkmgY5-Rv"
      }
    },
    {
      "cell_type": "code",
      "source": [
        "var1='Hello 3MTT'\n",
        "print (var1)"
      ],
      "metadata": {
        "colab": {
          "base_uri": "https://localhost:8080/"
        },
        "id": "PQGbhFH75hFD",
        "outputId": "33e858d2-1930-477f-c99e-6d0b2711a5c3"
      },
      "execution_count": null,
      "outputs": [
        {
          "output_type": "stream",
          "name": "stdout",
          "text": [
            "Hello 3MTT\n"
          ]
        }
      ]
    }
  ]
}