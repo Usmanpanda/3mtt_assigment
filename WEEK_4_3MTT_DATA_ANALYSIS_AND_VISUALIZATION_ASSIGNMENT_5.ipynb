{
  "nbformat": 4,
  "nbformat_minor": 0,
  "metadata": {
    "colab": {
      "provenance": [],
      "toc_visible": true,
      "authorship_tag": "ABX9TyMpOnImK3+NyXpLkIXUCTAb",
      "include_colab_link": true
    },
    "kernelspec": {
      "name": "python3",
      "display_name": "Python 3"
    },
    "language_info": {
      "name": "python"
    }
  },
  "cells": [
    {
      "cell_type": "markdown",
      "metadata": {
        "id": "view-in-github",
        "colab_type": "text"
      },
      "source": [
        "<a href=\"https://colab.research.google.com/github/Usmanpanda/3mtt_assigment/blob/main/WEEK_4_3MTT_DATA_ANALYSIS_AND_VISUALIZATION_ASSIGNMENT_5.ipynb\" target=\"_parent\"><img src=\"https://colab.research.google.com/assets/colab-badge.svg\" alt=\"Open In Colab\"/></a>"
      ]
    },
    {
      "cell_type": "markdown",
      "source": [],
      "metadata": {
        "id": "6ItcLXt3Dvse"
      }
    },
    {
      "cell_type": "code",
      "execution_count": null,
      "metadata": {
        "id": "wi8po29gDoHe"
      },
      "outputs": [],
      "source": []
    },
    {
      "cell_type": "markdown",
      "source": [
        "Use of data structure, conditional statement and function to solve data related tasks"
      ],
      "metadata": {
        "id": "mL0SA-9eEO0p"
      }
    },
    {
      "cell_type": "code",
      "source": [
        "# Grouping patients in to pediatrics or adults in a clinic\n",
        "lst1_age =[67, 24, 15, 45,56]\n",
        "for n in lst1:\n",
        "  if n =< 18\n",
        "print (pediatric)\n",
        "else print (n)"
      ],
      "metadata": {
        "colab": {
          "base_uri": "https://localhost:8080/",
          "height": 158
        },
        "id": "KOb_7G8CFC-p",
        "outputId": "86d011ef-7fb4-493e-b60a-d3463c510fdf"
      },
      "execution_count": null,
      "outputs": [
        {
          "output_type": "error",
          "ename": "SyntaxError",
          "evalue": "invalid syntax (<ipython-input-6-33821cb1011f>, line 4)",
          "traceback": [
            "\u001b[0;36m  File \u001b[0;32m\"<ipython-input-6-33821cb1011f>\"\u001b[0;36m, line \u001b[0;32m4\u001b[0m\n\u001b[0;31m    if n =< 18\u001b[0m\n\u001b[0m         ^\u001b[0m\n\u001b[0;31mSyntaxError\u001b[0m\u001b[0;31m:\u001b[0m invalid syntax\n"
          ]
        }
      ]
    },
    {
      "cell_type": "code",
      "source": [],
      "metadata": {
        "id": "CRayw7PrNwpn"
      },
      "execution_count": null,
      "outputs": []
    },
    {
      "cell_type": "code",
      "source": [],
      "metadata": {
        "id": "yfhO-TD9NhNv"
      },
      "execution_count": null,
      "outputs": []
    }
  ]
}